{
 "cells": [
  {
   "cell_type": "markdown",
   "metadata": {},
   "source": [
    "#### Exercise 1 - Class Inheritance"
   ]
  },
  {
   "cell_type": "markdown",
   "metadata": {},
   "source": [
    "Create an Employee class that sets an employee's first name, last name, job title, salary, and email. The Employee class should have a class attribute for the raise amount set to 5% (1.05). Create a method that will apply the raise to an employee's salary."
   ]
  },
  {
   "cell_type": "code",
   "execution_count": 1,
   "metadata": {},
   "outputs": [],
   "source": [
    "class Employee:\n",
    "    raise_amount = 1.05\n",
    "\n",
    "    def __init__(self, first, last, salary, email):\n",
    "        self.first = first\n",
    "        self.last = last\n",
    "        self.salary = salary\n",
    "        self.email = email\n",
    "    \n",
    "    def apply_raise(self):  \n",
    "        self.salary = self.salary * self.raise_amount\n"
   ]
  },
  {
   "cell_type": "markdown",
   "metadata": {},
   "source": [
    "Create two more classes that inherit from the Employee class. One for Sales and one for Development. Both of these classes will have the same attributes as the Employee.<br>\n",
    "- For the Sales employees, add a phone number attribute on instantiation using the super method. \n",
    "- Create a method on the Sales class that will Send a Follow Up Email. It should take in a customer name and \"send\" aka print a formatted email \"Dear *customer*, Thank you for your interest in our product. Please let me know if you have any questions. My email is *email* or my phone number is *phone number*. Thanks, *full name*\"\n",
    "- Create a method on the Development class called code that will print out \"*full name* is writing code\"."
   ]
  },
  {
   "cell_type": "code",
   "execution_count": 8,
   "metadata": {},
   "outputs": [],
   "source": [
    "class Sales(Employee):\n",
    "    \n",
    "    def __init__(self, first, last, salary, email, phone):\n",
    "        super().__init__(first, last, salary, email)\n",
    "        self.phone = phone\n",
    "\n",
    "    def follow_up(self):\n",
    "        print(f\"Dear {self.first} {self.last}, thank you for your interest in our product. Please let me know if you have any questions. My email is fakemail@fake.com and my phone number is 333-333-3333. Thanks,Rachel Tucker.\")\n",
    "\n",
    "class Development(Employee):\n",
    "\n",
    "    def code(self):\n",
    "        print(f\"{self.first} {self.last} is writing code.\")"
   ]
  },
  {
   "cell_type": "markdown",
   "metadata": {},
   "source": [
    "- Create an instance of a Sales Employee with a salary of $50,000.\n",
    "- Send follow up emails to \"Mike O'Neil\" and \"Hannah Stern\"\n",
    "- Give the employee a raise and print the salary"
   ]
  },
  {
   "cell_type": "code",
   "execution_count": 4,
   "metadata": {},
   "outputs": [
    {
     "name": "stdout",
     "output_type": "stream",
     "text": [
      "Dear Mike O'Neil, thank you for your interest in our product. Please let me know if you have any questions. My email is fakemail@fake.com and my phone number is 333-333-3333. Thanks,Rachel Tucker.\n",
      "Dear Hannah Stern, thank you for your interest in our product. Please let me know if you have any questions. My email is fakemail@fake.com and my phone number is 333-333-3333. Thanks,Rachel Tucker.\n",
      "52500.0\n"
     ]
    }
   ],
   "source": [
    "sales_emp1 = Sales('Jack', 'Russell', 50000.00, 'jr@fakemail.com', '123-456-7890')\n",
    "sales_emp2 = Sales(\"Mike\", \"O'Neil\", 65000.00, 'MN@fakemail.com', '000-000-0000')\n",
    "sales_emp3 = Sales(\"Hannah\", \"Stern\", 70000.00, \"HS@fakemail.com\", \"111-111-1111\")\n",
    "\n",
    "sales_emp2.follow_up()\n",
    "sales_emp3.follow_up()\n",
    "\n",
    "sales_emp1.apply_raise()\n",
    "print(sales_emp1.salary)\n",
    "\n",
    "\n"
   ]
  },
  {
   "cell_type": "markdown",
   "metadata": {},
   "source": [
    "- Create an instance of a Development Employee with a salary of $100,000\n",
    "- Write some code with this employee (aka call the code method)\n",
    "- Give the employee a raise and print the salary"
   ]
  },
  {
   "cell_type": "code",
   "execution_count": 10,
   "metadata": {},
   "outputs": [
    {
     "name": "stdout",
     "output_type": "stream",
     "text": [
      "Brian Tucker is writing code.\n",
      "105000.0\n"
     ]
    }
   ],
   "source": [
    "dev_emp1 = Development('Brian', 'Tucker', 100000, 'BT@fakemail.com')\n",
    "dev_emp1.code()\n",
    "dev_emp1.apply_raise()\n",
    "print(dev_emp1.salary)"
   ]
  },
  {
   "cell_type": "markdown",
   "metadata": {},
   "source": [
    "#### Exercise 2 - Importing Modules"
   ]
  },
  {
   "cell_type": "markdown",
   "metadata": {},
   "source": [
    "In VS Code, create a module titled `geometry` and add two functions in there. One that will calculate the area of a circle given a radius. The second will find the hypotenuse of a right angle given the two sides. Import the module or the functions from the module and use it to find the answers to the below questions"
   ]
  },
  {
   "cell_type": "code",
   "execution_count": 2,
   "metadata": {},
   "outputs": [],
   "source": [
    "import geometry_module as geometry"
   ]
  },
  {
   "cell_type": "markdown",
   "metadata": {},
   "source": [
    "What is the area of a circle with a radius of 7cm?"
   ]
  },
  {
   "cell_type": "code",
   "execution_count": 5,
   "metadata": {},
   "outputs": [
    {
     "data": {
      "text/plain": [
       "153.93804002589985"
      ]
     },
     "execution_count": 5,
     "metadata": {},
     "output_type": "execute_result"
    }
   ],
   "source": [
    "geometry.area_circle(7)"
   ]
  },
  {
   "cell_type": "markdown",
   "metadata": {},
   "source": [
    "What is the hypotenuse of a right angle with sides of 3in and 4in?"
   ]
  },
  {
   "cell_type": "code",
   "execution_count": 6,
   "metadata": {},
   "outputs": [
    {
     "data": {
      "text/plain": [
       "5.0"
      ]
     },
     "execution_count": 6,
     "metadata": {},
     "output_type": "execute_result"
    }
   ],
   "source": [
    "geometry.hypotenuse(3, 4)"
   ]
  },
  {
   "cell_type": "code",
   "execution_count": null,
   "metadata": {},
   "outputs": [],
   "source": []
  },
  {
   "cell_type": "code",
   "execution_count": null,
   "metadata": {},
   "outputs": [],
   "source": []
  }
 ],
 "metadata": {
  "kernelspec": {
   "display_name": "Python 3",
   "language": "python",
   "name": "python3"
  },
  "language_info": {
   "codemirror_mode": {
    "name": "ipython",
    "version": 3
   },
   "file_extension": ".py",
   "mimetype": "text/x-python",
   "name": "python",
   "nbconvert_exporter": "python",
   "pygments_lexer": "ipython3",
   "version": "3.10.8"
  },
  "vscode": {
   "interpreter": {
    "hash": "b8f36a3cc235477a428cc6c69a0ef8e307a4c977c5fe5f600d89927ec9b63476"
   }
  }
 },
 "nbformat": 4,
 "nbformat_minor": 4
}
